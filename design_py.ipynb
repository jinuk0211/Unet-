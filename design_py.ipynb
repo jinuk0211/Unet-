{
  "nbformat": 4,
  "nbformat_minor": 0,
  "metadata": {
    "colab": {
      "provenance": [],
      "authorship_tag": "ABX9TyMhp2mowl2pHlMzdp/xucay",
      "include_colab_link": true
    },
    "kernelspec": {
      "name": "python3",
      "display_name": "Python 3"
    },
    "language_info": {
      "name": "python"
    }
  },
  "cells": [
    {
      "cell_type": "markdown",
      "metadata": {
        "id": "view-in-github",
        "colab_type": "text"
      },
      "source": [
        "<a href=\"https://colab.research.google.com/github/jinuk0211/Unet-/blob/main/design_py.ipynb\" target=\"_parent\"><img src=\"https://colab.research.google.com/assets/colab-badge.svg\" alt=\"Open In Colab\"/></a>"
      ]
    },
    {
      "cell_type": "code",
      "source": [
        "!git remote add origin https://github.com/jinuk0211/designpattern.git"
      ],
      "metadata": {
        "id": "FMCcAFC_MQq9"
      },
      "execution_count": 24,
      "outputs": []
    },
    {
      "cell_type": "code",
      "source": [
        "!git remote remove origin"
      ],
      "metadata": {
        "id": "TCwj3UYyPt_m"
      },
      "execution_count": 23,
      "outputs": []
    },
    {
      "cell_type": "code",
      "source": [
        "# echo \"# designpattern\" >> README.md\n",
        "!git init\n",
        "!git add config/adapter.py\n",
        "!git commit -m \"first commit\"\n",
        "!git branch -M main\n",
        "# !git remote add origin https://github.com/jinuk0211/designpattern.git\n",
        "!git push -u origin main"
      ],
      "metadata": {
        "colab": {
          "base_uri": "https://localhost:8080/"
        },
        "id": "pXCzLxlWOrsp",
        "outputId": "efc5d5d0-2546-40a4-f413-5456d391c2f8"
      },
      "execution_count": 32,
      "outputs": [
        {
          "output_type": "stream",
          "name": "stdout",
          "text": [
            "Reinitialized existing Git repository in /content/.git/\n",
            "fatal: pathspec 'config/adapter.py' did not match any files\n",
            "On branch main\n",
            "Untracked files:\n",
            "  (use \"git add <file>...\" to include in what will be committed)\n",
            "\t\u001b[31m.config/\u001b[m\n",
            "\t\u001b[31msample_data/\u001b[m\n",
            "\n",
            "nothing added to commit but untracked files present (use \"git add\" to track)\n",
            "fatal: could not read Username for 'https://github.com': No such device or address\n"
          ]
        }
      ]
    },
    {
      "cell_type": "code",
      "source": [
        "!git config --global init.defaultBranch main"
      ],
      "metadata": {
        "id": "ARCAPev5NMVm"
      },
      "execution_count": 29,
      "outputs": []
    },
    {
      "cell_type": "code",
      "source": [
        "!git config --global user.email \"dnr9333@gmail.com\"\n",
        "!git config --global user.name \"jinuklee\""
      ],
      "metadata": {
        "id": "555xEnOONZ-N"
      },
      "execution_count": 27,
      "outputs": []
    },
    {
      "cell_type": "code",
      "source": [
        "!git config --global user.name"
      ],
      "metadata": {
        "colab": {
          "base_uri": "https://localhost:8080/"
        },
        "id": "HmudP4FkQolg",
        "outputId": "e9527144-7c61-49b8-cb34-97ab2625f933"
      },
      "execution_count": 28,
      "outputs": [
        {
          "output_type": "stream",
          "name": "stdout",
          "text": [
            "jinuklee\n"
          ]
        }
      ]
    },
    {
      "cell_type": "code",
      "source": [
        "!git add adapter.py\n",
        "!git commit -m \"Colab에서 작성한 Python 파일 추가\"\n",
        "!git push origin master"
      ],
      "metadata": {
        "colab": {
          "base_uri": "https://localhost:8080/"
        },
        "id": "omoA4VLpMdXX",
        "outputId": "014064ec-4b89-4f6e-94c7-a4a3bf84eed9"
      },
      "execution_count": 17,
      "outputs": [
        {
          "output_type": "stream",
          "name": "stdout",
          "text": [
            "On branch master\n",
            "Untracked files:\n",
            "  (use \"git add <file>...\" to include in what will be committed)\n",
            "\t\u001b[31m.config/\u001b[m\n",
            "\t\u001b[31msample_data/\u001b[m\n",
            "\n",
            "nothing added to commit but untracked files present (use \"git add\" to track)\n",
            "fatal: could not read Username for 'https://github.com': No such device or address\n"
          ]
        }
      ]
    },
    {
      "cell_type": "code",
      "execution_count": 2,
      "metadata": {
        "colab": {
          "base_uri": "https://localhost:8080/"
        },
        "id": "fsnujy5yJf-m",
        "outputId": "4cc27243-b5ad-410b-8cbc-66ad6588e843"
      },
      "outputs": [
        {
          "output_type": "stream",
          "name": "stdout",
          "text": [
            "Writing adapter.py\n"
          ]
        }
      ],
      "source": [
        "%%writefile adapter.py\n",
        "#디자인 패턴 adapter\n",
        "# 두 개의 호환되지 않는 인터페이스 사이에 브릿지를 역할을 하는 객체를 제공합니다.\n",
        "class SocketAdapter:\n",
        "    def __init__(self, socket):\n",
        "        self.socket = socket\n",
        "\n",
        "    def read(self, n):\n",
        "        return self.socket.recv(n)\n",
        "\n",
        "    def write(self, data):\n",
        "        return self.socket.send(data)\n",
        "\n",
        "# 예시\n",
        "socket = socket.socket()\n",
        "adapter = SocketAdapter(socket)\n",
        "\n",
        "#socket과 file사이의 adapter로 상호작용\n",
        "# File 클래스처럼 사용 가능\n",
        "with open(\"file.txt\", \"r\") as f:\n",
        "    data = f.read()\n",
        "\n",
        "with adapter as f:\n",
        "    f.write(data)"
      ]
    }
  ]
}